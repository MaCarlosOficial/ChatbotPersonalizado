{
  "cells": [
    {
      "cell_type": "markdown",
      "metadata": {
        "id": "view-in-github",
        "colab_type": "text"
      },
      "source": [
        "<a href=\"https://colab.research.google.com/github/MaCarlosOficial/ChatbotPersonalizado/blob/main/ChatBotTreino.ipynb\" target=\"_parent\"><img src=\"https://colab.research.google.com/assets/colab-badge.svg\" alt=\"Open In Colab\"/></a>"
      ]
    },
    {
      "cell_type": "markdown",
      "metadata": {
        "id": "XWBU7OBqr--R"
      },
      "source": [
        "Instalando a SDK do ChatGPT (openIA) e uma biblioteca para tokenizar o texto que será usado para treinar o ChatGPT"
      ]
    },
    {
      "cell_type": "code",
      "execution_count": null,
      "metadata": {
        "id": "5hqCX1pGSCfq"
      },
      "outputs": [],
      "source": [
        "!pip install --quiet openai==0.28 #antiga\n",
        "!pip install --quiet tiktoken"
      ]
    },
    {
      "cell_type": "markdown",
      "metadata": {
        "id": "FCpriYbcsY5w"
      },
      "source": [
        "Importa todas as bibliotecas que serão usadas"
      ]
    },
    {
      "cell_type": "code",
      "execution_count": null,
      "metadata": {
        "id": "JDeF-XVMTF6t"
      },
      "outputs": [],
      "source": [
        "#import os\n",
        "import pandas as pd\n",
        "#import re\n",
        "#from nltk.corpus import stopwords\n",
        "#import string\n",
        "#import nltk\n",
        "#nltk.download('stopwords')\n",
        "import time\n",
        "import tiktoken\n",
        "\n",
        "# Assistente\n",
        "import openai\n",
        "from openai.embeddings_utils import distances_from_embeddings, cosine_similarity"
      ]
    },
    {
      "cell_type": "markdown",
      "metadata": {
        "id": "aZy7pVL8tNXh"
      },
      "source": [
        "Leitura do arquivo com o texto da sua empresa ou instiruição com informações específicas dela. O Texto deve ser no formato informativo não utilize perguntas e respostas."
      ]
    },
    {
      "cell_type": "code",
      "execution_count": null,
      "metadata": {
        "colab": {
          "base_uri": "https://localhost:8080/",
          "height": 206
        },
        "id": "8-jERcJUdpbb",
        "outputId": "7f1984b3-6e74-4764-cdcc-efba7c6f6e45"
      },
      "outputs": [
        {
          "data": {
            "application/vnd.google.colaboratory.intrinsic+json": {
              "summary": "{\n  \"name\": \"df\",\n  \"rows\": 36,\n  \"fields\": [\n    {\n      \"column\": \"Textos\",\n      \"properties\": {\n        \"dtype\": \"string\",\n        \"num_unique_values\": 36,\n        \"samples\": [\n          \"gradua\\u00e7\\u00e3o ead em gest\\u00e3o financeira tem como diferenciais: proposta pedag\\u00f3gica que associa a teoria com a pr\\u00e1tica da \\u00e1rea de conhecimento do curso nos diversos componentes curriculares; coordena\\u00e7\\u00e3o com proximidade e agilidade no atendimento aos alunos e na solu\\u00e7\\u00e3o de eventuais problemas; corpo docente altamente capacitado, comprometido com o curso e com a institui\\u00e7\\u00e3o de ensino, composto na sua maioria por mestres e doutores; mercado de trabalho em ascens\\u00e3o; \\u0095 realiza\\u00e7\\u00e3o de projetos t\\u00e9cnicos; \\u0095 alto \\u00edndice de empregabilidade dos alunos formados; ambiente virtual de intera\\u00e7\\u00e3o de \\u00faltima gera\\u00e7\\u00e3o com rota de aprendizagem; biblioteca digital; amplo mercado de trabalho.\",\n          \"para o prouni, podem participar somente aqueles que prestaram a \\u00faltima edi\\u00e7\\u00e3o do enen e obtiveram nota m\\u00e9dia de 450 pontos nas provas objetivas, bem como pontua\\u00e7\\u00e3o maior que zero na reda\\u00e7\\u00e3o.\",\n          \"nosso telefone para falar com a gente somente pelo whatsapp 11 97370-4199\"\n        ],\n        \"semantic_type\": \"\",\n        \"description\": \"\"\n      }\n    }\n  ]\n}",
              "type": "dataframe",
              "variable_name": "df"
            },
            "text/html": [
              "\n",
              "  <div id=\"df-4ab03024-5dfd-4cd0-ae20-3b8a349826ef\" class=\"colab-df-container\">\n",
              "    <div>\n",
              "<style scoped>\n",
              "    .dataframe tbody tr th:only-of-type {\n",
              "        vertical-align: middle;\n",
              "    }\n",
              "\n",
              "    .dataframe tbody tr th {\n",
              "        vertical-align: top;\n",
              "    }\n",
              "\n",
              "    .dataframe thead th {\n",
              "        text-align: right;\n",
              "    }\n",
              "</style>\n",
              "<table border=\"1\" class=\"dataframe\">\n",
              "  <thead>\n",
              "    <tr style=\"text-align: right;\">\n",
              "      <th></th>\n",
              "      <th>Textos</th>\n",
              "    </tr>\n",
              "  </thead>\n",
              "  <tbody>\n",
              "    <tr>\n",
              "      <th>0</th>\n",
              "      <td>o grupo drummond é uma escola que possui curso...</td>\n",
              "    </tr>\n",
              "    <tr>\n",
              "      <th>1</th>\n",
              "      <td>para os cursos de graduação e pós graduação a ...</td>\n",
              "    </tr>\n",
              "    <tr>\n",
              "      <th>2</th>\n",
              "      <td>o grupo drummond é referência em ensino, pesqu...</td>\n",
              "    </tr>\n",
              "    <tr>\n",
              "      <th>3</th>\n",
              "      <td>corpo acadêmico qualificado. contamos com prof...</td>\n",
              "    </tr>\n",
              "    <tr>\n",
              "      <th>4</th>\n",
              "      <td>atualmente, o grupo é composto pelo centro uni...</td>\n",
              "    </tr>\n",
              "  </tbody>\n",
              "</table>\n",
              "</div>\n",
              "    <div class=\"colab-df-buttons\">\n",
              "\n",
              "  <div class=\"colab-df-container\">\n",
              "    <button class=\"colab-df-convert\" onclick=\"convertToInteractive('df-4ab03024-5dfd-4cd0-ae20-3b8a349826ef')\"\n",
              "            title=\"Convert this dataframe to an interactive table.\"\n",
              "            style=\"display:none;\">\n",
              "\n",
              "  <svg xmlns=\"http://www.w3.org/2000/svg\" height=\"24px\" viewBox=\"0 -960 960 960\">\n",
              "    <path d=\"M120-120v-720h720v720H120Zm60-500h600v-160H180v160Zm220 220h160v-160H400v160Zm0 220h160v-160H400v160ZM180-400h160v-160H180v160Zm440 0h160v-160H620v160ZM180-180h160v-160H180v160Zm440 0h160v-160H620v160Z\"/>\n",
              "  </svg>\n",
              "    </button>\n",
              "\n",
              "  <style>\n",
              "    .colab-df-container {\n",
              "      display:flex;\n",
              "      gap: 12px;\n",
              "    }\n",
              "\n",
              "    .colab-df-convert {\n",
              "      background-color: #E8F0FE;\n",
              "      border: none;\n",
              "      border-radius: 50%;\n",
              "      cursor: pointer;\n",
              "      display: none;\n",
              "      fill: #1967D2;\n",
              "      height: 32px;\n",
              "      padding: 0 0 0 0;\n",
              "      width: 32px;\n",
              "    }\n",
              "\n",
              "    .colab-df-convert:hover {\n",
              "      background-color: #E2EBFA;\n",
              "      box-shadow: 0px 1px 2px rgba(60, 64, 67, 0.3), 0px 1px 3px 1px rgba(60, 64, 67, 0.15);\n",
              "      fill: #174EA6;\n",
              "    }\n",
              "\n",
              "    .colab-df-buttons div {\n",
              "      margin-bottom: 4px;\n",
              "    }\n",
              "\n",
              "    [theme=dark] .colab-df-convert {\n",
              "      background-color: #3B4455;\n",
              "      fill: #D2E3FC;\n",
              "    }\n",
              "\n",
              "    [theme=dark] .colab-df-convert:hover {\n",
              "      background-color: #434B5C;\n",
              "      box-shadow: 0px 1px 3px 1px rgba(0, 0, 0, 0.15);\n",
              "      filter: drop-shadow(0px 1px 2px rgba(0, 0, 0, 0.3));\n",
              "      fill: #FFFFFF;\n",
              "    }\n",
              "  </style>\n",
              "\n",
              "    <script>\n",
              "      const buttonEl =\n",
              "        document.querySelector('#df-4ab03024-5dfd-4cd0-ae20-3b8a349826ef button.colab-df-convert');\n",
              "      buttonEl.style.display =\n",
              "        google.colab.kernel.accessAllowed ? 'block' : 'none';\n",
              "\n",
              "      async function convertToInteractive(key) {\n",
              "        const element = document.querySelector('#df-4ab03024-5dfd-4cd0-ae20-3b8a349826ef');\n",
              "        const dataTable =\n",
              "          await google.colab.kernel.invokeFunction('convertToInteractive',\n",
              "                                                    [key], {});\n",
              "        if (!dataTable) return;\n",
              "\n",
              "        const docLinkHtml = 'Like what you see? Visit the ' +\n",
              "          '<a target=\"_blank\" href=https://colab.research.google.com/notebooks/data_table.ipynb>data table notebook</a>'\n",
              "          + ' to learn more about interactive tables.';\n",
              "        element.innerHTML = '';\n",
              "        dataTable['output_type'] = 'display_data';\n",
              "        await google.colab.output.renderOutput(dataTable, element);\n",
              "        const docLink = document.createElement('div');\n",
              "        docLink.innerHTML = docLinkHtml;\n",
              "        element.appendChild(docLink);\n",
              "      }\n",
              "    </script>\n",
              "  </div>\n",
              "\n",
              "\n",
              "<div id=\"df-14bea155-4c67-4be4-a195-7774a0781679\">\n",
              "  <button class=\"colab-df-quickchart\" onclick=\"quickchart('df-14bea155-4c67-4be4-a195-7774a0781679')\"\n",
              "            title=\"Suggest charts\"\n",
              "            style=\"display:none;\">\n",
              "\n",
              "<svg xmlns=\"http://www.w3.org/2000/svg\" height=\"24px\"viewBox=\"0 0 24 24\"\n",
              "     width=\"24px\">\n",
              "    <g>\n",
              "        <path d=\"M19 3H5c-1.1 0-2 .9-2 2v14c0 1.1.9 2 2 2h14c1.1 0 2-.9 2-2V5c0-1.1-.9-2-2-2zM9 17H7v-7h2v7zm4 0h-2V7h2v10zm4 0h-2v-4h2v4z\"/>\n",
              "    </g>\n",
              "</svg>\n",
              "  </button>\n",
              "\n",
              "<style>\n",
              "  .colab-df-quickchart {\n",
              "      --bg-color: #E8F0FE;\n",
              "      --fill-color: #1967D2;\n",
              "      --hover-bg-color: #E2EBFA;\n",
              "      --hover-fill-color: #174EA6;\n",
              "      --disabled-fill-color: #AAA;\n",
              "      --disabled-bg-color: #DDD;\n",
              "  }\n",
              "\n",
              "  [theme=dark] .colab-df-quickchart {\n",
              "      --bg-color: #3B4455;\n",
              "      --fill-color: #D2E3FC;\n",
              "      --hover-bg-color: #434B5C;\n",
              "      --hover-fill-color: #FFFFFF;\n",
              "      --disabled-bg-color: #3B4455;\n",
              "      --disabled-fill-color: #666;\n",
              "  }\n",
              "\n",
              "  .colab-df-quickchart {\n",
              "    background-color: var(--bg-color);\n",
              "    border: none;\n",
              "    border-radius: 50%;\n",
              "    cursor: pointer;\n",
              "    display: none;\n",
              "    fill: var(--fill-color);\n",
              "    height: 32px;\n",
              "    padding: 0;\n",
              "    width: 32px;\n",
              "  }\n",
              "\n",
              "  .colab-df-quickchart:hover {\n",
              "    background-color: var(--hover-bg-color);\n",
              "    box-shadow: 0 1px 2px rgba(60, 64, 67, 0.3), 0 1px 3px 1px rgba(60, 64, 67, 0.15);\n",
              "    fill: var(--button-hover-fill-color);\n",
              "  }\n",
              "\n",
              "  .colab-df-quickchart-complete:disabled,\n",
              "  .colab-df-quickchart-complete:disabled:hover {\n",
              "    background-color: var(--disabled-bg-color);\n",
              "    fill: var(--disabled-fill-color);\n",
              "    box-shadow: none;\n",
              "  }\n",
              "\n",
              "  .colab-df-spinner {\n",
              "    border: 2px solid var(--fill-color);\n",
              "    border-color: transparent;\n",
              "    border-bottom-color: var(--fill-color);\n",
              "    animation:\n",
              "      spin 1s steps(1) infinite;\n",
              "  }\n",
              "\n",
              "  @keyframes spin {\n",
              "    0% {\n",
              "      border-color: transparent;\n",
              "      border-bottom-color: var(--fill-color);\n",
              "      border-left-color: var(--fill-color);\n",
              "    }\n",
              "    20% {\n",
              "      border-color: transparent;\n",
              "      border-left-color: var(--fill-color);\n",
              "      border-top-color: var(--fill-color);\n",
              "    }\n",
              "    30% {\n",
              "      border-color: transparent;\n",
              "      border-left-color: var(--fill-color);\n",
              "      border-top-color: var(--fill-color);\n",
              "      border-right-color: var(--fill-color);\n",
              "    }\n",
              "    40% {\n",
              "      border-color: transparent;\n",
              "      border-right-color: var(--fill-color);\n",
              "      border-top-color: var(--fill-color);\n",
              "    }\n",
              "    60% {\n",
              "      border-color: transparent;\n",
              "      border-right-color: var(--fill-color);\n",
              "    }\n",
              "    80% {\n",
              "      border-color: transparent;\n",
              "      border-right-color: var(--fill-color);\n",
              "      border-bottom-color: var(--fill-color);\n",
              "    }\n",
              "    90% {\n",
              "      border-color: transparent;\n",
              "      border-bottom-color: var(--fill-color);\n",
              "    }\n",
              "  }\n",
              "</style>\n",
              "\n",
              "  <script>\n",
              "    async function quickchart(key) {\n",
              "      const quickchartButtonEl =\n",
              "        document.querySelector('#' + key + ' button');\n",
              "      quickchartButtonEl.disabled = true;  // To prevent multiple clicks.\n",
              "      quickchartButtonEl.classList.add('colab-df-spinner');\n",
              "      try {\n",
              "        const charts = await google.colab.kernel.invokeFunction(\n",
              "            'suggestCharts', [key], {});\n",
              "      } catch (error) {\n",
              "        console.error('Error during call to suggestCharts:', error);\n",
              "      }\n",
              "      quickchartButtonEl.classList.remove('colab-df-spinner');\n",
              "      quickchartButtonEl.classList.add('colab-df-quickchart-complete');\n",
              "    }\n",
              "    (() => {\n",
              "      let quickchartButtonEl =\n",
              "        document.querySelector('#df-14bea155-4c67-4be4-a195-7774a0781679 button');\n",
              "      quickchartButtonEl.style.display =\n",
              "        google.colab.kernel.accessAllowed ? 'block' : 'none';\n",
              "    })();\n",
              "  </script>\n",
              "</div>\n",
              "\n",
              "    </div>\n",
              "  </div>\n"
            ],
            "text/plain": [
              "                                              Textos\n",
              "0  o grupo drummond é uma escola que possui curso...\n",
              "1  para os cursos de graduação e pós graduação a ...\n",
              "2  o grupo drummond é referência em ensino, pesqu...\n",
              "3  corpo acadêmico qualificado. contamos com prof...\n",
              "4  atualmente, o grupo é composto pelo centro uni..."
            ]
          },
          "execution_count": 11,
          "metadata": {},
          "output_type": "execute_result"
        }
      ],
      "source": [
        "# Criar uma lista para armazenar os arquivos de texto\n",
        "filename='Exemplo_treinamento_ChatGPT.txt'\n",
        "# Abre o arquivo e leia o texto\n",
        "with open(filename, \"r\" , encoding='latin-1', errors='ignore') as f:\n",
        "  texto = f.read()\n",
        "  texto = texto.lower().split('\\n')\n",
        "\n",
        "#Criar um Dataframe a partir da lista de textos\n",
        "df = pd.DataFrame(texto, columns = ['Textos'])\n",
        "\n",
        "# Define a coluna de texto para ser o texto bruto com as novas linhas removidas\n",
        "df.to_csv('arqprocessado.csv')\n",
        "df.head()"
      ]
    },
    {
      "cell_type": "markdown",
      "metadata": {
        "id": "owMJCqKktgZ4"
      },
      "source": [
        "A partir do texto carregado em um DataFrame pandas, é feito a tokenização - conversão do texto em palavras separadas, para usar depois no treinamento da IA"
      ]
    },
    {
      "cell_type": "code",
      "execution_count": null,
      "metadata": {
        "colab": {
          "base_uri": "https://localhost:8080/",
          "height": 447
        },
        "id": "kMqEhMhoUmxZ",
        "outputId": "651fecd0-50d4-4e45-e7d5-0d2ec43e893d"
      },
      "outputs": [
        {
          "data": {
            "text/plain": [
              "<Axes: >"
            ]
          },
          "execution_count": 12,
          "metadata": {},
          "output_type": "execute_result"
        },
        {
          "data": {
            "image/png": "[encoded data removed]",
            "text/plain": [
              "<Figure size 640x480 with 1 Axes>"
            ]
          },
          "metadata": {},
          "output_type": "display_data"
        }
      ],
      "source": [
        "#tokenização usando a biblioteca cl100k_base\n",
        "# carrega o modelo cl100k_base\n",
        "tokenizer = tiktoken.get_encoding(\"cl100k_base\")\n",
        "\n",
        "df = pd.read_csv('arqprocessado.csv', index_col=0)\n",
        "df.columns = ['Textos']\n",
        "\n",
        "# Tokeniza o texto e grava o nr de tokens\n",
        "df['n_tokens'] = df.Textos.apply(lambda x: len(tokenizer.encode(str(x))))\n",
        "\n",
        "# Visualiza a distribuição do numero de tokens por linha do Dataframe usando a histograma\n",
        "df.n_tokens.hist()\n",
        "#se for necessário usar a função abaixo para quebrar os textos"
      ]
    },
    {
      "cell_type": "markdown",
      "metadata": {
        "id": "G0L_W279tsjS"
      },
      "source": [
        "A API do ChatGPT pode limitar a quantidade de tokens, então essa função vai quebrar os tokens caso seja maior que 500."
      ]
    },
    {
      "cell_type": "code",
      "execution_count": null,
      "metadata": {
        "id": "IJ4nAh04U8EC"
      },
      "outputs": [],
      "source": [
        "# usar aqui somente se o nr de tokens for maior que 500\n",
        "max_tokens = 500\n",
        "\n",
        "# Função para dividir o texto em partes de um número máximo de tokens\n",
        "def split_into_many(text, max_tokens = max_tokens):\n",
        "\n",
        "    # Dividir o texto em frases\n",
        "    sentences = text.split(' ')\n",
        "\n",
        "    # Obter o número de tokens para cada sentença\n",
        "    n_tokens = [len(tokenizer.encode(\" \" + sentence)) for sentence in sentences]\n",
        "\n",
        "    chunks = []\n",
        "    tokens_so_far = 0\n",
        "    chunk = []\n",
        "\n",
        "    # Percorrer as sentenças e os tokens unidos em uma tupla\n",
        "    for sentence, token in zip(sentences, n_tokens):\n",
        "\n",
        "        # Se o número de tokens até o momento mais o número de tokens na frase atual for maior\n",
        "        # do que o número máximo de tokens, adicione o bloco à lista de blocos e redefina\n",
        "        # o bloco e os tokens até o momento\n",
        "        if tokens_so_far + token > max_tokens:\n",
        "            chunks.append(\". \".join(chunk) + \".\")\n",
        "            chunk = []\n",
        "            tokens_so_far = 0\n",
        "\n",
        "        # Se o número de tokens na frase atual for maior que o número máximo de\n",
        "        # tokens, vá para a próxima sentença\n",
        "        if token > max_tokens:\n",
        "            continue\n",
        "\n",
        "        # Caso contrário, adicione a frase ao bloco e adicione o número de tokens ao total\n",
        "        chunk.append(sentence)\n",
        "        tokens_so_far += token + 1\n",
        "\n",
        "    return chunks\n",
        "\n",
        "\n",
        "shortened = []\n",
        "\n",
        "# Percorrer o dataframe\n",
        "for row in df.iterrows():\n",
        "\n",
        "    # Se o texto for None, vá para a próxima linha\n",
        "    if row[1]['Textos'] is None:\n",
        "        continue\n",
        "\n",
        "    # Se o número de tokens for maior que o número máximo de tokens, divida o texto em partes\n",
        "    if row[1]['n_tokens'] > max_tokens:\n",
        "        shortened += split_into_many(row[1]['Textos'])\n",
        "\n",
        "    # Caso contrário, adicione o texto à lista de textos abreviados\n",
        "    else:\n",
        "        shortened.append( row[1]['Textos'] )"
      ]
    },
    {
      "cell_type": "markdown",
      "metadata": {
        "id": "uY8ZIdgbt5_P"
      },
      "source": [
        "Na sequencia analisamos a base para ver como ficou a tokenização"
      ]
    },
    {
      "cell_type": "code",
      "execution_count": null,
      "metadata": {
        "colab": {
          "base_uri": "https://localhost:8080/",
          "height": 469
        },
        "id": "zb3Qup2LVS6T",
        "outputId": "b5577712-84dc-4a34-d0a0-272b3adf08a3"
      },
      "outputs": [
        {
          "data": {
            "text/plain": [
              "array([[<Axes: title={'center': 'n_tokens'}>]], dtype=object)"
            ]
          },
          "execution_count": 14,
          "metadata": {},
          "output_type": "execute_result"
        },
        {
          "data": {
            "image/png": "[encoded data removed]",
            "text/plain": [
              "<Figure size 640x480 with 1 Axes>"
            ]
          },
          "metadata": {},
          "output_type": "display_data"
        }
      ],
      "source": [
        "# usar aqui somente se o nr de tokens for maior que 500\n",
        "df = pd.DataFrame(shortened, columns = ['Textos'])\n",
        "df['n_tokens'] = df.Textos.apply(lambda x: len(tokenizer.encode(str(x))))\n",
        "df.hist(column='n_tokens')"
      ]
    },
    {
      "cell_type": "markdown",
      "source": [
        "Nos 2 trechos de códigos a seguir, faremos uma contagem dos tokens que temos no nosso arquivo de treino e quanto será cobrado em dólar. Incluímos esta análise, pois o ChatGPT (OpenIA) cobra pela quantidade de tokens trafegados/usados.\n"
      ],
      "metadata": {
        "id": "9wDrlFITx_WV"
      }
    },
    {
      "cell_type": "code",
      "execution_count": null,
      "metadata": {
        "colab": {
          "base_uri": "https://localhost:8080/"
        },
        "id": "8Y9NWCy2ZLXo",
        "outputId": "c653bde2-076e-4178-a55d-33d2c6d09e6b"
      },
      "outputs": [
        {
          "name": "stdout",
          "output_type": "stream",
          "text": [
            "Número total de tokens 2933\n"
          ]
        }
      ],
      "source": [
        "num_tot_tokens = df['n_tokens'].sum()\n",
        "print(\"Número total de tokens\",num_tot_tokens)"
      ]
    },
    {
      "cell_type": "code",
      "execution_count": null,
      "metadata": {
        "colab": {
          "base_uri": "https://localhost:8080/"
        },
        "id": "AaV3HSOFX0C_",
        "outputId": "32313786-aa82-4318-f3c7-edd8dbfe7fea"
      },
      "outputs": [
        {
          "name": "stdout",
          "output_type": "stream",
          "text": [
            "Número de trechos de texto com no máximo 500 tokens : 36\n",
            "Custo total de treinamento do embedding: $ 0.0002933\n"
          ]
        }
      ],
      "source": [
        "i = 0\n",
        "for text in df['Textos']:\n",
        "    i+=1\n",
        "\n",
        "print(\"Número de trechos de texto com no máximo\",max_tokens,\"tokens :\",i)\n",
        "print(\"Custo total de treinamento do embedding: $\",num_tot_tokens /1000 * 0.0001)"
      ]
    },
    {
      "cell_type": "markdown",
      "metadata": {
        "id": "ktU45pd4uCQG"
      },
      "source": [
        "Aqui pegamos a chave da API_KEY que é gerada no site da OPENIA https://platform.openai.com/ para usar no CHAT"
      ]
    },
    {
      "cell_type": "code",
      "execution_count": null,
      "metadata": {
        "id": "ErV5bTVgnfaW"
      },
      "outputs": [],
      "source": [
        "#chave da API\n",
        "def ler_openai_api_key():\n",
        "    with open('openai_secret.txt', 'r') as file:\n",
        "        api_key = file.read().strip()\n",
        "    return api_key\n",
        "\n",
        "openai.api_key = ler_openai_api_key()"
      ]
    },
    {
      "cell_type": "markdown",
      "metadata": {
        "id": "KAb5Vf8NuPSJ"
      },
      "source": [
        "Aqui transformamos os tokens no formato Embeding que é o formato que o ChatGPT usa para treinar."
      ]
    },
    {
      "cell_type": "code",
      "execution_count": null,
      "metadata": {
        "colab": {
          "background_save": true,
          "base_uri": "https://localhost:8080/"
        },
        "id": "TzPpVaIsO5oQ",
        "outputId": "e171d4eb-3eb6-4481-a6e0-500b57508c61"
      },
      "outputs": [
        {
          "name": "stdout",
          "output_type": "stream",
          "text": [
            "0\n",
            "Fazendo embedding do texto\n",
            "1\n",
            "Fazendo embedding do texto\n",
            "2\n",
            "Fazendo embedding do texto\n",
            "3\n",
            "Fazendo embedding do texto\n",
            "4\n",
            "Fazendo embedding do texto\n",
            "5\n",
            "Fazendo embedding do texto\n",
            "6\n",
            "Fazendo embedding do texto\n",
            "7\n",
            "Fazendo embedding do texto\n",
            "8\n",
            "Fazendo embedding do texto\n",
            "9\n",
            "Fazendo embedding do texto\n",
            "10\n",
            "Fazendo embedding do texto\n",
            "11\n",
            "Fazendo embedding do texto\n",
            "12\n",
            "Fazendo embedding do texto\n",
            "13\n",
            "Fazendo embedding do texto\n",
            "14\n",
            "Fazendo embedding do texto\n",
            "15\n",
            "Fazendo embedding do texto\n",
            "16\n",
            "Fazendo embedding do texto\n",
            "17\n",
            "Fazendo embedding do texto\n",
            "18\n",
            "Fazendo embedding do texto\n",
            "19\n",
            "Fazendo embedding do texto\n",
            "20\n",
            "Fazendo embedding do texto\n",
            "21\n",
            "Fazendo embedding do texto\n",
            "22\n",
            "Fazendo embedding do texto\n",
            "23\n",
            "Fazendo embedding do texto\n",
            "24\n",
            "Fazendo embedding do texto\n",
            "25\n",
            "Fazendo embedding do texto\n",
            "26\n",
            "Fazendo embedding do texto\n",
            "27\n",
            "Fazendo embedding do texto\n",
            "28\n",
            "Fazendo embedding do texto\n",
            "29\n",
            "Fazendo embedding do texto\n",
            "30\n",
            "Fazendo embedding do texto\n",
            "31\n",
            "Fazendo embedding do texto\n",
            "32\n",
            "Fazendo embedding do texto\n",
            "33\n",
            "Fazendo embedding do texto\n",
            "34\n",
            "Fazendo embedding do texto\n",
            "35\n",
            "Fazendo embedding do texto\n"
          ]
        },
        {
          "data": {
            "application/vnd.google.colaboratory.intrinsic+json": {
              "summary": "{\n  \"name\": \"df\",\n  \"rows\": 36,\n  \"fields\": [\n    {\n      \"column\": \"Textos\",\n      \"properties\": {\n        \"dtype\": \"string\",\n        \"num_unique_values\": 36,\n        \"samples\": [\n          \"gradua\\u00e7\\u00e3o ead em gest\\u00e3o financeira tem como diferenciais: proposta pedag\\u00f3gica que associa a teoria com a pr\\u00e1tica da \\u00e1rea de conhecimento do curso nos diversos componentes curriculares; coordena\\u00e7\\u00e3o com proximidade e agilidade no atendimento aos alunos e na solu\\u00e7\\u00e3o de eventuais problemas; corpo docente altamente capacitado, comprometido com o curso e com a institui\\u00e7\\u00e3o de ensino, composto na sua maioria por mestres e doutores; mercado de trabalho em ascens\\u00e3o; \\u0095 realiza\\u00e7\\u00e3o de projetos t\\u00e9cnicos; \\u0095 alto \\u00edndice de empregabilidade dos alunos formados; ambiente virtual de intera\\u00e7\\u00e3o de \\u00faltima gera\\u00e7\\u00e3o com rota de aprendizagem; biblioteca digital; amplo mercado de trabalho.\",\n          \"para o prouni, podem participar somente aqueles que prestaram a \\u00faltima edi\\u00e7\\u00e3o do enen e obtiveram nota m\\u00e9dia de 450 pontos nas provas objetivas, bem como pontua\\u00e7\\u00e3o maior que zero na reda\\u00e7\\u00e3o.\",\n          \"nosso telefone para falar com a gente somente pelo whatsapp 11 97370-4199\"\n        ],\n        \"semantic_type\": \"\",\n        \"description\": \"\"\n      }\n    },\n    {\n      \"column\": \"n_tokens\",\n      \"properties\": {\n        \"dtype\": \"number\",\n        \"std\": 65,\n        \"min\": 14,\n        \"max\": 256,\n        \"num_unique_values\": 31,\n        \"samples\": [\n          256,\n          25,\n          161\n        ],\n        \"semantic_type\": \"\",\n        \"description\": \"\"\n      }\n    },\n    {\n      \"column\": \"embeddings\",\n      \"properties\": {\n        \"dtype\": \"object\",\n        \"semantic_type\": \"\",\n        \"description\": \"\"\n      }\n    }\n  ]\n}",
              "type": "dataframe",
              "variable_name": "df"
            },
            "text/html": [
              "\n",
              "  <div id=\"df-e8ce30c1-3028-4804-bf94-63700923feca\" class=\"colab-df-container\">\n",
              "    <div>\n",
              "<style scoped>\n",
              "    .dataframe tbody tr th:only-of-type {\n",
              "        vertical-align: middle;\n",
              "    }\n",
              "\n",
              "    .dataframe tbody tr th {\n",
              "        vertical-align: top;\n",
              "    }\n",
              "\n",
              "    .dataframe thead th {\n",
              "        text-align: right;\n",
              "    }\n",
              "</style>\n",
              "<table border=\"1\" class=\"dataframe\">\n",
              "  <thead>\n",
              "    <tr style=\"text-align: right;\">\n",
              "      <th></th>\n",
              "      <th>Textos</th>\n",
              "      <th>n_tokens</th>\n",
              "      <th>embeddings</th>\n",
              "    </tr>\n",
              "  </thead>\n",
              "  <tbody>\n",
              "    <tr>\n",
              "      <th>0</th>\n",
              "      <td>o grupo drummond é uma escola que possui curso...</td>\n",
              "      <td>24</td>\n",
              "      <td>[-0.02404816821217537, 0.004340109881013632, -...</td>\n",
              "    </tr>\n",
              "    <tr>\n",
              "      <th>1</th>\n",
              "      <td>para os cursos de graduação e pós graduação a ...</td>\n",
              "      <td>27</td>\n",
              "      <td>[-0.013512169942259789, 0.004850185476243496, ...</td>\n",
              "    </tr>\n",
              "    <tr>\n",
              "      <th>2</th>\n",
              "      <td>o grupo drummond é referência em ensino, pesqu...</td>\n",
              "      <td>37</td>\n",
              "      <td>[-0.03300058841705322, 0.007891444489359856, -...</td>\n",
              "    </tr>\n",
              "    <tr>\n",
              "      <th>3</th>\n",
              "      <td>corpo acadêmico qualificado. contamos com prof...</td>\n",
              "      <td>36</td>\n",
              "      <td>[-0.020967993885278702, 0.0033973539248108864,...</td>\n",
              "    </tr>\n",
              "    <tr>\n",
              "      <th>4</th>\n",
              "      <td>atualmente, o grupo é composto pelo centro uni...</td>\n",
              "      <td>121</td>\n",
              "      <td>[-0.01036587730050087, 0.00922863744199276, -0...</td>\n",
              "    </tr>\n",
              "  </tbody>\n",
              "</table>\n",
              "</div>\n",
              "    <div class=\"colab-df-buttons\">\n",
              "\n",
              "  <div class=\"colab-df-container\">\n",
              "    <button class=\"colab-df-convert\" onclick=\"convertToInteractive('df-e8ce30c1-3028-4804-bf94-63700923feca')\"\n",
              "            title=\"Convert this dataframe to an interactive table.\"\n",
              "            style=\"display:none;\">\n",
              "\n",
              "  <svg xmlns=\"http://www.w3.org/2000/svg\" height=\"24px\" viewBox=\"0 -960 960 960\">\n",
              "    <path d=\"M120-120v-720h720v720H120Zm60-500h600v-160H180v160Zm220 220h160v-160H400v160Zm0 220h160v-160H400v160ZM180-400h160v-160H180v160Zm440 0h160v-160H620v160ZM180-180h160v-160H180v160Zm440 0h160v-160H620v160Z\"/>\n",
              "  </svg>\n",
              "    </button>\n",
              "\n",
              "  <style>\n",
              "    .colab-df-container {\n",
              "      display:flex;\n",
              "      gap: 12px;\n",
              "    }\n",
              "\n",
              "    .colab-df-convert {\n",
              "      background-color: #E8F0FE;\n",
              "      border: none;\n",
              "      border-radius: 50%;\n",
              "      cursor: pointer;\n",
              "      display: none;\n",
              "      fill: #1967D2;\n",
              "      height: 32px;\n",
              "      padding: 0 0 0 0;\n",
              "      width: 32px;\n",
              "    }\n",
              "\n",
              "    .colab-df-convert:hover {\n",
              "      background-color: #E2EBFA;\n",
              "      box-shadow: 0px 1px 2px rgba(60, 64, 67, 0.3), 0px 1px 3px 1px rgba(60, 64, 67, 0.15);\n",
              "      fill: #174EA6;\n",
              "    }\n",
              "\n",
              "    .colab-df-buttons div {\n",
              "      margin-bottom: 4px;\n",
              "    }\n",
              "\n",
              "    [theme=dark] .colab-df-convert {\n",
              "      background-color: #3B4455;\n",
              "      fill: #D2E3FC;\n",
              "    }\n",
              "\n",
              "    [theme=dark] .colab-df-convert:hover {\n",
              "      background-color: #434B5C;\n",
              "      box-shadow: 0px 1px 3px 1px rgba(0, 0, 0, 0.15);\n",
              "      filter: drop-shadow(0px 1px 2px rgba(0, 0, 0, 0.3));\n",
              "      fill: #FFFFFF;\n",
              "    }\n",
              "  </style>\n",
              "\n",
              "    <script>\n",
              "      const buttonEl =\n",
              "        document.querySelector('#df-e8ce30c1-3028-4804-bf94-63700923feca button.colab-df-convert');\n",
              "      buttonEl.style.display =\n",
              "        google.colab.kernel.accessAllowed ? 'block' : 'none';\n",
              "\n",
              "      async function convertToInteractive(key) {\n",
              "        const element = document.querySelector('#df-e8ce30c1-3028-4804-bf94-63700923feca');\n",
              "        const dataTable =\n",
              "          await google.colab.kernel.invokeFunction('convertToInteractive',\n",
              "                                                    [key], {});\n",
              "        if (!dataTable) return;\n",
              "\n",
              "        const docLinkHtml = 'Like what you see? Visit the ' +\n",
              "          '<a target=\"_blank\" href=https://colab.research.google.com/notebooks/data_table.ipynb>data table notebook</a>'\n",
              "          + ' to learn more about interactive tables.';\n",
              "        element.innerHTML = '';\n",
              "        dataTable['output_type'] = 'display_data';\n",
              "        await google.colab.output.renderOutput(dataTable, element);\n",
              "        const docLink = document.createElement('div');\n",
              "        docLink.innerHTML = docLinkHtml;\n",
              "        element.appendChild(docLink);\n",
              "      }\n",
              "    </script>\n",
              "  </div>\n",
              "\n",
              "\n",
              "<div id=\"df-d4e3633c-ca95-4319-a037-5822fe895ee1\">\n",
              "  <button class=\"colab-df-quickchart\" onclick=\"quickchart('df-d4e3633c-ca95-4319-a037-5822fe895ee1')\"\n",
              "            title=\"Suggest charts\"\n",
              "            style=\"display:none;\">\n",
              "\n",
              "<svg xmlns=\"http://www.w3.org/2000/svg\" height=\"24px\"viewBox=\"0 0 24 24\"\n",
              "     width=\"24px\">\n",
              "    <g>\n",
              "        <path d=\"M19 3H5c-1.1 0-2 .9-2 2v14c0 1.1.9 2 2 2h14c1.1 0 2-.9 2-2V5c0-1.1-.9-2-2-2zM9 17H7v-7h2v7zm4 0h-2V7h2v10zm4 0h-2v-4h2v4z\"/>\n",
              "    </g>\n",
              "</svg>\n",
              "  </button>\n",
              "\n",
              "<style>\n",
              "  .colab-df-quickchart {\n",
              "      --bg-color: #E8F0FE;\n",
              "      --fill-color: #1967D2;\n",
              "      --hover-bg-color: #E2EBFA;\n",
              "      --hover-fill-color: #174EA6;\n",
              "      --disabled-fill-color: #AAA;\n",
              "      --disabled-bg-color: #DDD;\n",
              "  }\n",
              "\n",
              "  [theme=dark] .colab-df-quickchart {\n",
              "      --bg-color: #3B4455;\n",
              "      --fill-color: #D2E3FC;\n",
              "      --hover-bg-color: #434B5C;\n",
              "      --hover-fill-color: #FFFFFF;\n",
              "      --disabled-bg-color: #3B4455;\n",
              "      --disabled-fill-color: #666;\n",
              "  }\n",
              "\n",
              "  .colab-df-quickchart {\n",
              "    background-color: var(--bg-color);\n",
              "    border: none;\n",
              "    border-radius: 50%;\n",
              "    cursor: pointer;\n",
              "    display: none;\n",
              "    fill: var(--fill-color);\n",
              "    height: 32px;\n",
              "    padding: 0;\n",
              "    width: 32px;\n",
              "  }\n",
              "\n",
              "  .colab-df-quickchart:hover {\n",
              "    background-color: var(--hover-bg-color);\n",
              "    box-shadow: 0 1px 2px rgba(60, 64, 67, 0.3), 0 1px 3px 1px rgba(60, 64, 67, 0.15);\n",
              "    fill: var(--button-hover-fill-color);\n",
              "  }\n",
              "\n",
              "  .colab-df-quickchart-complete:disabled,\n",
              "  .colab-df-quickchart-complete:disabled:hover {\n",
              "    background-color: var(--disabled-bg-color);\n",
              "    fill: var(--disabled-fill-color);\n",
              "    box-shadow: none;\n",
              "  }\n",
              "\n",
              "  .colab-df-spinner {\n",
              "    border: 2px solid var(--fill-color);\n",
              "    border-color: transparent;\n",
              "    border-bottom-color: var(--fill-color);\n",
              "    animation:\n",
              "      spin 1s steps(1) infinite;\n",
              "  }\n",
              "\n",
              "  @keyframes spin {\n",
              "    0% {\n",
              "      border-color: transparent;\n",
              "      border-bottom-color: var(--fill-color);\n",
              "      border-left-color: var(--fill-color);\n",
              "    }\n",
              "    20% {\n",
              "      border-color: transparent;\n",
              "      border-left-color: var(--fill-color);\n",
              "      border-top-color: var(--fill-color);\n",
              "    }\n",
              "    30% {\n",
              "      border-color: transparent;\n",
              "      border-left-color: var(--fill-color);\n",
              "      border-top-color: var(--fill-color);\n",
              "      border-right-color: var(--fill-color);\n",
              "    }\n",
              "    40% {\n",
              "      border-color: transparent;\n",
              "      border-right-color: var(--fill-color);\n",
              "      border-top-color: var(--fill-color);\n",
              "    }\n",
              "    60% {\n",
              "      border-color: transparent;\n",
              "      border-right-color: var(--fill-color);\n",
              "    }\n",
              "    80% {\n",
              "      border-color: transparent;\n",
              "      border-right-color: var(--fill-color);\n",
              "      border-bottom-color: var(--fill-color);\n",
              "    }\n",
              "    90% {\n",
              "      border-color: transparent;\n",
              "      border-bottom-color: var(--fill-color);\n",
              "    }\n",
              "  }\n",
              "</style>\n",
              "\n",
              "  <script>\n",
              "    async function quickchart(key) {\n",
              "      const quickchartButtonEl =\n",
              "        document.querySelector('#' + key + ' button');\n",
              "      quickchartButtonEl.disabled = true;  // To prevent multiple clicks.\n",
              "      quickchartButtonEl.classList.add('colab-df-spinner');\n",
              "      try {\n",
              "        const charts = await google.colab.kernel.invokeFunction(\n",
              "            'suggestCharts', [key], {});\n",
              "      } catch (error) {\n",
              "        console.error('Error during call to suggestCharts:', error);\n",
              "      }\n",
              "      quickchartButtonEl.classList.remove('colab-df-spinner');\n",
              "      quickchartButtonEl.classList.add('colab-df-quickchart-complete');\n",
              "    }\n",
              "    (() => {\n",
              "      let quickchartButtonEl =\n",
              "        document.querySelector('#df-d4e3633c-ca95-4319-a037-5822fe895ee1 button');\n",
              "      quickchartButtonEl.style.display =\n",
              "        google.colab.kernel.accessAllowed ? 'block' : 'none';\n",
              "    })();\n",
              "  </script>\n",
              "</div>\n",
              "\n",
              "    </div>\n",
              "  </div>\n"
            ],
            "text/plain": [
              "                                              Textos  n_tokens  \\\n",
              "0  o grupo drummond é uma escola que possui curso...        24   \n",
              "1  para os cursos de graduação e pós graduação a ...        27   \n",
              "2  o grupo drummond é referência em ensino, pesqu...        37   \n",
              "3  corpo acadêmico qualificado. contamos com prof...        36   \n",
              "4  atualmente, o grupo é composto pelo centro uni...       121   \n",
              "\n",
              "                                          embeddings  \n",
              "0  [-0.02404816821217537, 0.004340109881013632, -...  \n",
              "1  [-0.013512169942259789, 0.004850185476243496, ...  \n",
              "2  [-0.03300058841705322, 0.007891444489359856, -...  \n",
              "3  [-0.020967993885278702, 0.0033973539248108864,...  \n",
              "4  [-0.01036587730050087, 0.00922863744199276, -0...  "
            ]
          },
          "execution_count": 18,
          "metadata": {},
          "output_type": "execute_result"
        }
      ],
      "source": [
        "#fazer o embedding do texto\n",
        "i = 0\n",
        "embeddings = []\n",
        "for text in df['Textos']:\n",
        "    time.sleep(2)\n",
        "    print(i)\n",
        "    try:\n",
        "        embedding = openai.Embedding.create(input=text, engine='text-embedding-ada-002')['data'][0]['embedding']\n",
        "        print(\"Fazendo embedding do texto\")\n",
        "        embeddings.append(embedding)\n",
        "    except openai.error.RateLimitError:\n",
        "        print(\"Rate limit error, esperando 20 segundo antes de tentar novamente\")\n",
        "        time.sleep(20)\n",
        "        embedding = openai.Embedding.create(input=text, engine='text-embedding-ada-002')['data'][0]['embedding']\n",
        "        print(\"embedding texto depois de esperar 20 segundos\")\n",
        "        embeddings.append(embedding)\n",
        "    i+=1\n",
        "\n",
        "df['embeddings'] = embeddings\n",
        "df.to_csv('embeddings.csv')\n",
        "df.head()"
      ]
    },
    {
      "cell_type": "markdown",
      "metadata": {
        "id": "LH0yqI4fuayt"
      },
      "source": [
        "Aqui criamos o contexto para o assunto que vamos treinar o CHAT"
      ]
    },
    {
      "cell_type": "code",
      "execution_count": null,
      "metadata": {
        "colab": {
          "background_save": true
        },
        "id": "H67rntHEa0it"
      },
      "outputs": [],
      "source": [
        "def create_context(question, df, max_len=1800, size=\"ada\"):\n",
        "    \"\"\"\n",
        "    Cria um contexto para uma pergunta encontrando o contexto mais similar no conjunto de embeddings gerado utilizando o Custom Knowledge.\n",
        "    \"\"\"\n",
        "\n",
        "    # Obter a embeddings para a pergunta que foi feita\n",
        "    q_embeddings = openai.Embedding.create(input=question, engine='text-embedding-ada-002')['data'][0]['embedding']\n",
        "\n",
        "    # Obter as distâncias a partir dos embeddings\n",
        "    df['distances'] = distances_from_embeddings(q_embeddings, df['embeddings'].values, distance_metric='cosine')\n",
        "\n",
        "\n",
        "    returns = []\n",
        "    cur_len = 0\n",
        "\n",
        "    # Classifique por distância e adicione o texto ao contexto\n",
        "    for i, row in df.sort_values('distances', ascending=True).iterrows():\n",
        "\n",
        "        # Adicionar o comprimento do texto ao comprimento atual\n",
        "        cur_len += row['n_tokens'] + 4\n",
        "\n",
        "        # Se o contexto for muito longo, quebre\n",
        "        if cur_len > max_len:\n",
        "            break\n",
        "\n",
        "        # Caso contrário, adicione-o ao texto que está sendo retornado\n",
        "        returns.append(row[\"Textos\"])\n",
        "\n",
        "    # Retornar o contexto\n",
        "    return \"\\n\\n###\\n\\n\".join(returns)"
      ]
    },
    {
      "cell_type": "markdown",
      "metadata": {
        "id": "pCPuLn2Suj7P"
      },
      "source": [
        "Aqui vamos criar uma função para responder as perguntas específicas com base no Contexto criado acima"
      ]
    },
    {
      "cell_type": "code",
      "execution_count": null,
      "metadata": {
        "colab": {
          "background_save": true
        },
        "id": "SizZdcyJZeZd"
      },
      "outputs": [],
      "source": [
        "def responder_perguntas(\n",
        "                    df=df,\n",
        "                    model=\"gpt-3.5-turbo-instruct\",\n",
        "                    question=None,\n",
        "                    max_len=1800,\n",
        "                    size=\"ada\",\n",
        "                    debug=False,\n",
        "                    max_tokens=150,\n",
        "                    stop_sequence=None):\n",
        "  \"\"\"\n",
        "    Responder a uma pergunta com base no contexto mais semelhante dos textos do dataframe\n",
        "  \"\"\"\n",
        "\n",
        "  context = create_context(\n",
        "        question,\n",
        "        df=df,\n",
        "        max_len=max_len,\n",
        "        size=size,\n",
        "  )\n",
        "  if debug:\n",
        "      print(\"Context:\\n\" + context)\n",
        "      print(\"\\n\\n\")\n",
        "\n",
        "  try:\n",
        "      # Criar uma conclusão usando a pergunta e o contexto\n",
        "      response = openai.Completion.create(\n",
        "            prompt=f\"Responda as perguntas com base no contexto abaixo, e se a pergunta não puder ser respondida diga \\\"Eu não sei responder isso\\\"\\n\\Contexto: {context}\\n\\n---\\n\\nPergunta: {question}\\nResposta:\",\n",
        "            temperature=0,\n",
        "            max_tokens=max_tokens,\n",
        "            top_p=1,\n",
        "            frequency_penalty=0,\n",
        "            presence_penalty=0,\n",
        "            stop=stop_sequence,\n",
        "            model=model,\n",
        "      )\n",
        "      return response['choices'][0]['text']\n",
        "  except Exception as e:\n",
        "        print(e)\n",
        "    #     retornar \"\""
      ]
    },
    {
      "cell_type": "markdown",
      "metadata": {
        "id": "0Q2XLR-yuqq_"
      },
      "source": [
        "Aqui criamos um CHAT para demonstrar o Treinamento. Conforme instrução/texto colocada no Contexto acima. Se a pergunta estiver fora do contexto, o chat responderá que Não sabe responder."
      ]
    },
    {
      "cell_type": "code",
      "execution_count": null,
      "metadata": {
        "id": "vGciBTzFZgqz"
      },
      "outputs": [],
      "source": [
        "print(\"Entre com sua DÚVIDA ou escreva SAIR para finalizar: \")\n",
        "while True:\n",
        "  mensagem = input('')\n",
        "  if mensagem.upper() == \"SAIR\":\n",
        "    break\n",
        "  else:\n",
        "    resposta = responder_perguntas(question=mensagem,debug=False)\n",
        "    print(\"RESPOSTA: \",resposta,'\\n')\n",
        "\n",
        "print(\"Até mais....\")"
      ]
    }
  ],
  "metadata": {
    "colab": {
      "provenance": [],
      "include_colab_link": true
    },
    "kernelspec": {
      "display_name": "Python 3",
      "name": "python3"
    },
    "language_info": {
      "name": "python"
    }
  },
  "nbformat": 4,
  "nbformat_minor": 0
}